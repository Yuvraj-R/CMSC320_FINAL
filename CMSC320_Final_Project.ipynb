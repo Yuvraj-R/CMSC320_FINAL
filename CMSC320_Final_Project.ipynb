{
  "cells": [
    {
      "cell_type": "markdown",
      "metadata": {
        "id": "0_ed0SA7c91v"
      },
      "source": [
        "# Credit Card Approval Prediction\n",
        "Spring 2025 Data Science Project\n",
        "\n",
        "Noah Der Garabedian, Shlok Desai, Yuvraj Rekhi\n",
        "\n",
        "Contributions: FILL IN LATER"
      ]
    },
    {
      "cell_type": "markdown",
      "metadata": {
        "id": "onrfw77nf5jm"
      },
      "source": [
        "# Introduction\n",
        "\n",
        "For our project, we are analyzing and modeling credit behavior using data from Kaggle’s “Credit Card Approval Prediction” (https://www.kaggle.com/datasets/rikdifos/credit-card-approval-prediction/data) dataset. While the dataset doesn’t include direct labels for whether an applicant was approved or denied, it contains detailed personal, financial, and credit history information that allows us to infer credit risk. Our main goal is to answer the question: Can we predict whether someone is likely to have poor credit behavior based on their background and financial profile?\n",
        "\n",
        "This question is important because credit decisions have a major impact on people’s financial opportunities, such as access to loans, credit cards, and interest rates. By using data analysis and machine learning, we aim to uncover patterns in the data and identify which factors are most strongly linked to financial risk. This also gives us a chance to explore whether there are any biases in the data that could lead to unfair credit outcomes."
      ]
    },
    {
      "cell_type": "markdown",
      "metadata": {
        "id": "Nugys6qowFty"
      },
      "source": [
        "# Data Curation"
      ]
    },
    {
      "cell_type": "markdown",
      "metadata": {
        "id": "qqC5Bo-E5ODd"
      },
      "source": [
        "Data Preprocessing:\n",
        "\n",
        "We can import our data into a pandas dataframe by using pd.read_csv to read our data"
      ]
    },
    {
      "cell_type": "code",
      "execution_count": 1,
      "metadata": {
        "colab": {
          "base_uri": "https://localhost:8080/",
          "height": 278
        },
        "id": "fpXpyTEfwPBr",
        "outputId": "bc203b51-c588-4929-8f3e-2000c847d319"
      },
      "outputs": [
        {
          "data": {
            "text/html": [
              "<div>\n",
              "<style scoped>\n",
              "    .dataframe tbody tr th:only-of-type {\n",
              "        vertical-align: middle;\n",
              "    }\n",
              "\n",
              "    .dataframe tbody tr th {\n",
              "        vertical-align: top;\n",
              "    }\n",
              "\n",
              "    .dataframe thead th {\n",
              "        text-align: right;\n",
              "    }\n",
              "</style>\n",
              "<table border=\"1\" class=\"dataframe\">\n",
              "  <thead>\n",
              "    <tr style=\"text-align: right;\">\n",
              "      <th></th>\n",
              "      <th>ID</th>\n",
              "      <th>CODE_GENDER</th>\n",
              "      <th>FLAG_OWN_CAR</th>\n",
              "      <th>FLAG_OWN_REALTY</th>\n",
              "      <th>CNT_CHILDREN</th>\n",
              "      <th>AMT_INCOME_TOTAL</th>\n",
              "      <th>NAME_INCOME_TYPE</th>\n",
              "      <th>NAME_EDUCATION_TYPE</th>\n",
              "      <th>NAME_FAMILY_STATUS</th>\n",
              "      <th>NAME_HOUSING_TYPE</th>\n",
              "      <th>DAYS_BIRTH</th>\n",
              "      <th>DAYS_EMPLOYED</th>\n",
              "      <th>FLAG_MOBIL</th>\n",
              "      <th>FLAG_WORK_PHONE</th>\n",
              "      <th>FLAG_PHONE</th>\n",
              "      <th>FLAG_EMAIL</th>\n",
              "      <th>OCCUPATION_TYPE</th>\n",
              "      <th>CNT_FAM_MEMBERS</th>\n",
              "    </tr>\n",
              "  </thead>\n",
              "  <tbody>\n",
              "    <tr>\n",
              "      <th>0</th>\n",
              "      <td>5008804</td>\n",
              "      <td>M</td>\n",
              "      <td>Y</td>\n",
              "      <td>Y</td>\n",
              "      <td>0</td>\n",
              "      <td>427500.0</td>\n",
              "      <td>Working</td>\n",
              "      <td>Higher education</td>\n",
              "      <td>Civil marriage</td>\n",
              "      <td>Rented apartment</td>\n",
              "      <td>-12005</td>\n",
              "      <td>-4542</td>\n",
              "      <td>1</td>\n",
              "      <td>1</td>\n",
              "      <td>0</td>\n",
              "      <td>0</td>\n",
              "      <td>NaN</td>\n",
              "      <td>2.0</td>\n",
              "    </tr>\n",
              "    <tr>\n",
              "      <th>1</th>\n",
              "      <td>5008805</td>\n",
              "      <td>M</td>\n",
              "      <td>Y</td>\n",
              "      <td>Y</td>\n",
              "      <td>0</td>\n",
              "      <td>427500.0</td>\n",
              "      <td>Working</td>\n",
              "      <td>Higher education</td>\n",
              "      <td>Civil marriage</td>\n",
              "      <td>Rented apartment</td>\n",
              "      <td>-12005</td>\n",
              "      <td>-4542</td>\n",
              "      <td>1</td>\n",
              "      <td>1</td>\n",
              "      <td>0</td>\n",
              "      <td>0</td>\n",
              "      <td>NaN</td>\n",
              "      <td>2.0</td>\n",
              "    </tr>\n",
              "    <tr>\n",
              "      <th>2</th>\n",
              "      <td>5008806</td>\n",
              "      <td>M</td>\n",
              "      <td>Y</td>\n",
              "      <td>Y</td>\n",
              "      <td>0</td>\n",
              "      <td>112500.0</td>\n",
              "      <td>Working</td>\n",
              "      <td>Secondary / secondary special</td>\n",
              "      <td>Married</td>\n",
              "      <td>House / apartment</td>\n",
              "      <td>-21474</td>\n",
              "      <td>-1134</td>\n",
              "      <td>1</td>\n",
              "      <td>0</td>\n",
              "      <td>0</td>\n",
              "      <td>0</td>\n",
              "      <td>Security staff</td>\n",
              "      <td>2.0</td>\n",
              "    </tr>\n",
              "    <tr>\n",
              "      <th>3</th>\n",
              "      <td>5008808</td>\n",
              "      <td>F</td>\n",
              "      <td>N</td>\n",
              "      <td>Y</td>\n",
              "      <td>0</td>\n",
              "      <td>270000.0</td>\n",
              "      <td>Commercial associate</td>\n",
              "      <td>Secondary / secondary special</td>\n",
              "      <td>Single / not married</td>\n",
              "      <td>House / apartment</td>\n",
              "      <td>-19110</td>\n",
              "      <td>-3051</td>\n",
              "      <td>1</td>\n",
              "      <td>0</td>\n",
              "      <td>1</td>\n",
              "      <td>1</td>\n",
              "      <td>Sales staff</td>\n",
              "      <td>1.0</td>\n",
              "    </tr>\n",
              "    <tr>\n",
              "      <th>4</th>\n",
              "      <td>5008809</td>\n",
              "      <td>F</td>\n",
              "      <td>N</td>\n",
              "      <td>Y</td>\n",
              "      <td>0</td>\n",
              "      <td>270000.0</td>\n",
              "      <td>Commercial associate</td>\n",
              "      <td>Secondary / secondary special</td>\n",
              "      <td>Single / not married</td>\n",
              "      <td>House / apartment</td>\n",
              "      <td>-19110</td>\n",
              "      <td>-3051</td>\n",
              "      <td>1</td>\n",
              "      <td>0</td>\n",
              "      <td>1</td>\n",
              "      <td>1</td>\n",
              "      <td>Sales staff</td>\n",
              "      <td>1.0</td>\n",
              "    </tr>\n",
              "  </tbody>\n",
              "</table>\n",
              "</div>"
            ],
            "text/plain": [
              "        ID CODE_GENDER FLAG_OWN_CAR FLAG_OWN_REALTY  CNT_CHILDREN  \\\n",
              "0  5008804           M            Y               Y             0   \n",
              "1  5008805           M            Y               Y             0   \n",
              "2  5008806           M            Y               Y             0   \n",
              "3  5008808           F            N               Y             0   \n",
              "4  5008809           F            N               Y             0   \n",
              "\n",
              "   AMT_INCOME_TOTAL      NAME_INCOME_TYPE            NAME_EDUCATION_TYPE  \\\n",
              "0          427500.0               Working               Higher education   \n",
              "1          427500.0               Working               Higher education   \n",
              "2          112500.0               Working  Secondary / secondary special   \n",
              "3          270000.0  Commercial associate  Secondary / secondary special   \n",
              "4          270000.0  Commercial associate  Secondary / secondary special   \n",
              "\n",
              "     NAME_FAMILY_STATUS  NAME_HOUSING_TYPE  DAYS_BIRTH  DAYS_EMPLOYED  \\\n",
              "0        Civil marriage   Rented apartment      -12005          -4542   \n",
              "1        Civil marriage   Rented apartment      -12005          -4542   \n",
              "2               Married  House / apartment      -21474          -1134   \n",
              "3  Single / not married  House / apartment      -19110          -3051   \n",
              "4  Single / not married  House / apartment      -19110          -3051   \n",
              "\n",
              "   FLAG_MOBIL  FLAG_WORK_PHONE  FLAG_PHONE  FLAG_EMAIL OCCUPATION_TYPE  \\\n",
              "0           1                1           0           0             NaN   \n",
              "1           1                1           0           0             NaN   \n",
              "2           1                0           0           0  Security staff   \n",
              "3           1                0           1           1     Sales staff   \n",
              "4           1                0           1           1     Sales staff   \n",
              "\n",
              "   CNT_FAM_MEMBERS  \n",
              "0              2.0  \n",
              "1              2.0  \n",
              "2              2.0  \n",
              "3              1.0  \n",
              "4              1.0  "
            ]
          },
          "execution_count": 1,
          "metadata": {},
          "output_type": "execute_result"
        }
      ],
      "source": [
        "import pandas as pd\n",
        "import numpy as np\n",
        "import matplotlib.pyplot as plt\n",
        "import seaborn as sns\n",
        "\n",
        "application_record = pd.read_csv('application_record.csv')\n",
        "credit_record = pd.read_csv('credit_record.csv')\n",
        "application_record.head()  # Display the first 5 application records\n"
      ]
    },
    {
      "cell_type": "code",
      "execution_count": 2,
      "metadata": {
        "colab": {
          "base_uri": "https://localhost:8080/",
          "height": 206
        },
        "id": "Qr3zB2Cr5Yfo",
        "outputId": "6da273ef-b11c-49ca-b885-271980098852"
      },
      "outputs": [
        {
          "data": {
            "text/html": [
              "<div>\n",
              "<style scoped>\n",
              "    .dataframe tbody tr th:only-of-type {\n",
              "        vertical-align: middle;\n",
              "    }\n",
              "\n",
              "    .dataframe tbody tr th {\n",
              "        vertical-align: top;\n",
              "    }\n",
              "\n",
              "    .dataframe thead th {\n",
              "        text-align: right;\n",
              "    }\n",
              "</style>\n",
              "<table border=\"1\" class=\"dataframe\">\n",
              "  <thead>\n",
              "    <tr style=\"text-align: right;\">\n",
              "      <th></th>\n",
              "      <th>ID</th>\n",
              "      <th>MONTHS_BALANCE</th>\n",
              "      <th>STATUS</th>\n",
              "    </tr>\n",
              "  </thead>\n",
              "  <tbody>\n",
              "    <tr>\n",
              "      <th>0</th>\n",
              "      <td>5001711</td>\n",
              "      <td>0</td>\n",
              "      <td>X</td>\n",
              "    </tr>\n",
              "    <tr>\n",
              "      <th>1</th>\n",
              "      <td>5001711</td>\n",
              "      <td>-1</td>\n",
              "      <td>0</td>\n",
              "    </tr>\n",
              "    <tr>\n",
              "      <th>2</th>\n",
              "      <td>5001711</td>\n",
              "      <td>-2</td>\n",
              "      <td>0</td>\n",
              "    </tr>\n",
              "    <tr>\n",
              "      <th>3</th>\n",
              "      <td>5001711</td>\n",
              "      <td>-3</td>\n",
              "      <td>0</td>\n",
              "    </tr>\n",
              "    <tr>\n",
              "      <th>4</th>\n",
              "      <td>5001712</td>\n",
              "      <td>0</td>\n",
              "      <td>C</td>\n",
              "    </tr>\n",
              "  </tbody>\n",
              "</table>\n",
              "</div>"
            ],
            "text/plain": [
              "        ID  MONTHS_BALANCE STATUS\n",
              "0  5001711               0      X\n",
              "1  5001711              -1      0\n",
              "2  5001711              -2      0\n",
              "3  5001711              -3      0\n",
              "4  5001712               0      C"
            ]
          },
          "execution_count": 2,
          "metadata": {},
          "output_type": "execute_result"
        }
      ],
      "source": [
        "credit_record.head()"
      ]
    },
    {
      "cell_type": "markdown",
      "metadata": {
        "id": "Zf6NILDh54oQ"
      },
      "source": [
        "To best organize our data, we can merge our datasets based on ID just to make the future sections easier:"
      ]
    },
    {
      "cell_type": "code",
      "execution_count": 3,
      "metadata": {
        "colab": {
          "base_uri": "https://localhost:8080/",
          "height": 226
        },
        "id": "4opkc9Zm5bBz",
        "outputId": "83b5718b-edc1-4660-e56c-656cf67d84bb"
      },
      "outputs": [
        {
          "data": {
            "text/html": [
              "<div>\n",
              "<style scoped>\n",
              "    .dataframe tbody tr th:only-of-type {\n",
              "        vertical-align: middle;\n",
              "    }\n",
              "\n",
              "    .dataframe tbody tr th {\n",
              "        vertical-align: top;\n",
              "    }\n",
              "\n",
              "    .dataframe thead th {\n",
              "        text-align: right;\n",
              "    }\n",
              "</style>\n",
              "<table border=\"1\" class=\"dataframe\">\n",
              "  <thead>\n",
              "    <tr style=\"text-align: right;\">\n",
              "      <th></th>\n",
              "      <th>ID</th>\n",
              "      <th>CODE_GENDER</th>\n",
              "      <th>FLAG_OWN_CAR</th>\n",
              "      <th>FLAG_OWN_REALTY</th>\n",
              "      <th>CNT_CHILDREN</th>\n",
              "      <th>AMT_INCOME_TOTAL</th>\n",
              "      <th>NAME_INCOME_TYPE</th>\n",
              "      <th>NAME_EDUCATION_TYPE</th>\n",
              "      <th>NAME_FAMILY_STATUS</th>\n",
              "      <th>NAME_HOUSING_TYPE</th>\n",
              "      <th>DAYS_BIRTH</th>\n",
              "      <th>DAYS_EMPLOYED</th>\n",
              "      <th>FLAG_MOBIL</th>\n",
              "      <th>FLAG_WORK_PHONE</th>\n",
              "      <th>FLAG_PHONE</th>\n",
              "      <th>FLAG_EMAIL</th>\n",
              "      <th>OCCUPATION_TYPE</th>\n",
              "      <th>CNT_FAM_MEMBERS</th>\n",
              "      <th>MONTHS_BALANCE</th>\n",
              "      <th>STATUS</th>\n",
              "    </tr>\n",
              "  </thead>\n",
              "  <tbody>\n",
              "    <tr>\n",
              "      <th>0</th>\n",
              "      <td>5008804</td>\n",
              "      <td>M</td>\n",
              "      <td>Y</td>\n",
              "      <td>Y</td>\n",
              "      <td>0</td>\n",
              "      <td>427500.0</td>\n",
              "      <td>Working</td>\n",
              "      <td>Higher education</td>\n",
              "      <td>Civil marriage</td>\n",
              "      <td>Rented apartment</td>\n",
              "      <td>-12005</td>\n",
              "      <td>-4542</td>\n",
              "      <td>1</td>\n",
              "      <td>1</td>\n",
              "      <td>0</td>\n",
              "      <td>0</td>\n",
              "      <td>NaN</td>\n",
              "      <td>2.0</td>\n",
              "      <td>0</td>\n",
              "      <td>C</td>\n",
              "    </tr>\n",
              "    <tr>\n",
              "      <th>1</th>\n",
              "      <td>5008804</td>\n",
              "      <td>M</td>\n",
              "      <td>Y</td>\n",
              "      <td>Y</td>\n",
              "      <td>0</td>\n",
              "      <td>427500.0</td>\n",
              "      <td>Working</td>\n",
              "      <td>Higher education</td>\n",
              "      <td>Civil marriage</td>\n",
              "      <td>Rented apartment</td>\n",
              "      <td>-12005</td>\n",
              "      <td>-4542</td>\n",
              "      <td>1</td>\n",
              "      <td>1</td>\n",
              "      <td>0</td>\n",
              "      <td>0</td>\n",
              "      <td>NaN</td>\n",
              "      <td>2.0</td>\n",
              "      <td>-1</td>\n",
              "      <td>C</td>\n",
              "    </tr>\n",
              "    <tr>\n",
              "      <th>2</th>\n",
              "      <td>5008804</td>\n",
              "      <td>M</td>\n",
              "      <td>Y</td>\n",
              "      <td>Y</td>\n",
              "      <td>0</td>\n",
              "      <td>427500.0</td>\n",
              "      <td>Working</td>\n",
              "      <td>Higher education</td>\n",
              "      <td>Civil marriage</td>\n",
              "      <td>Rented apartment</td>\n",
              "      <td>-12005</td>\n",
              "      <td>-4542</td>\n",
              "      <td>1</td>\n",
              "      <td>1</td>\n",
              "      <td>0</td>\n",
              "      <td>0</td>\n",
              "      <td>NaN</td>\n",
              "      <td>2.0</td>\n",
              "      <td>-2</td>\n",
              "      <td>C</td>\n",
              "    </tr>\n",
              "    <tr>\n",
              "      <th>3</th>\n",
              "      <td>5008804</td>\n",
              "      <td>M</td>\n",
              "      <td>Y</td>\n",
              "      <td>Y</td>\n",
              "      <td>0</td>\n",
              "      <td>427500.0</td>\n",
              "      <td>Working</td>\n",
              "      <td>Higher education</td>\n",
              "      <td>Civil marriage</td>\n",
              "      <td>Rented apartment</td>\n",
              "      <td>-12005</td>\n",
              "      <td>-4542</td>\n",
              "      <td>1</td>\n",
              "      <td>1</td>\n",
              "      <td>0</td>\n",
              "      <td>0</td>\n",
              "      <td>NaN</td>\n",
              "      <td>2.0</td>\n",
              "      <td>-3</td>\n",
              "      <td>C</td>\n",
              "    </tr>\n",
              "    <tr>\n",
              "      <th>4</th>\n",
              "      <td>5008804</td>\n",
              "      <td>M</td>\n",
              "      <td>Y</td>\n",
              "      <td>Y</td>\n",
              "      <td>0</td>\n",
              "      <td>427500.0</td>\n",
              "      <td>Working</td>\n",
              "      <td>Higher education</td>\n",
              "      <td>Civil marriage</td>\n",
              "      <td>Rented apartment</td>\n",
              "      <td>-12005</td>\n",
              "      <td>-4542</td>\n",
              "      <td>1</td>\n",
              "      <td>1</td>\n",
              "      <td>0</td>\n",
              "      <td>0</td>\n",
              "      <td>NaN</td>\n",
              "      <td>2.0</td>\n",
              "      <td>-4</td>\n",
              "      <td>C</td>\n",
              "    </tr>\n",
              "  </tbody>\n",
              "</table>\n",
              "</div>"
            ],
            "text/plain": [
              "        ID CODE_GENDER FLAG_OWN_CAR FLAG_OWN_REALTY  CNT_CHILDREN  \\\n",
              "0  5008804           M            Y               Y             0   \n",
              "1  5008804           M            Y               Y             0   \n",
              "2  5008804           M            Y               Y             0   \n",
              "3  5008804           M            Y               Y             0   \n",
              "4  5008804           M            Y               Y             0   \n",
              "\n",
              "   AMT_INCOME_TOTAL NAME_INCOME_TYPE NAME_EDUCATION_TYPE NAME_FAMILY_STATUS  \\\n",
              "0          427500.0          Working    Higher education     Civil marriage   \n",
              "1          427500.0          Working    Higher education     Civil marriage   \n",
              "2          427500.0          Working    Higher education     Civil marriage   \n",
              "3          427500.0          Working    Higher education     Civil marriage   \n",
              "4          427500.0          Working    Higher education     Civil marriage   \n",
              "\n",
              "  NAME_HOUSING_TYPE  DAYS_BIRTH  DAYS_EMPLOYED  FLAG_MOBIL  FLAG_WORK_PHONE  \\\n",
              "0  Rented apartment      -12005          -4542           1                1   \n",
              "1  Rented apartment      -12005          -4542           1                1   \n",
              "2  Rented apartment      -12005          -4542           1                1   \n",
              "3  Rented apartment      -12005          -4542           1                1   \n",
              "4  Rented apartment      -12005          -4542           1                1   \n",
              "\n",
              "   FLAG_PHONE  FLAG_EMAIL OCCUPATION_TYPE  CNT_FAM_MEMBERS  MONTHS_BALANCE  \\\n",
              "0           0           0             NaN              2.0               0   \n",
              "1           0           0             NaN              2.0              -1   \n",
              "2           0           0             NaN              2.0              -2   \n",
              "3           0           0             NaN              2.0              -3   \n",
              "4           0           0             NaN              2.0              -4   \n",
              "\n",
              "  STATUS  \n",
              "0      C  \n",
              "1      C  \n",
              "2      C  \n",
              "3      C  \n",
              "4      C  "
            ]
          },
          "execution_count": 3,
          "metadata": {},
          "output_type": "execute_result"
        }
      ],
      "source": [
        "total_dataset = pd.merge(application_record, credit_record, on='ID', how='inner')  # 'inner' join keeps only matching IDs\n",
        "total_dataset.head()\n"
      ]
    },
    {
      "cell_type": "markdown",
      "metadata": {
        "id": "VSDOlp5A6Fng"
      },
      "source": [
        "Now the MONTHS_BALANCE & STATUS tables have been merged with the rest of the data, we can focus on other things such as looking for missing, weirdly formatted, or inaccurate data."
      ]
    },
    {
      "cell_type": "code",
      "execution_count": 4,
      "metadata": {
        "colab": {
          "base_uri": "https://localhost:8080/",
          "height": 710
        },
        "id": "gEUCE7Jl6i5y",
        "outputId": "91ebd696-f13a-46f9-f305-7a86f651882b"
      },
      "outputs": [
        {
          "data": {
            "text/plain": [
              "ID                          0\n",
              "CODE_GENDER                 0\n",
              "FLAG_OWN_CAR                0\n",
              "FLAG_OWN_REALTY             0\n",
              "CNT_CHILDREN                0\n",
              "AMT_INCOME_TOTAL            0\n",
              "NAME_INCOME_TYPE            0\n",
              "NAME_EDUCATION_TYPE         0\n",
              "NAME_FAMILY_STATUS          0\n",
              "NAME_HOUSING_TYPE           0\n",
              "DAYS_BIRTH                  0\n",
              "DAYS_EMPLOYED               0\n",
              "FLAG_MOBIL                  0\n",
              "FLAG_WORK_PHONE             0\n",
              "FLAG_PHONE                  0\n",
              "FLAG_EMAIL                  0\n",
              "OCCUPATION_TYPE        240048\n",
              "CNT_FAM_MEMBERS             0\n",
              "MONTHS_BALANCE              0\n",
              "STATUS                      0\n",
              "dtype: int64"
            ]
          },
          "execution_count": 4,
          "metadata": {},
          "output_type": "execute_result"
        }
      ],
      "source": [
        "total_dataset.isna().sum()\n"
      ]
    },
    {
      "cell_type": "markdown",
      "metadata": {
        "id": "jyxE94zj5WHk"
      },
      "source": [
        "Clearly the dataset is very well formatted and there is no missing data except for the occupation_type (for privacy reasons), so we can remove that column from our Dataframe and not use it in our Data Analysis."
      ]
    },
    {
      "cell_type": "code",
      "execution_count": 5,
      "metadata": {
        "colab": {
          "base_uri": "https://localhost:8080/",
          "height": 226
        },
        "id": "IckWIiAX6z8h",
        "outputId": "87f2c417-7f32-4d31-a507-a0c0ae5b20e3"
      },
      "outputs": [
        {
          "data": {
            "text/html": [
              "<div>\n",
              "<style scoped>\n",
              "    .dataframe tbody tr th:only-of-type {\n",
              "        vertical-align: middle;\n",
              "    }\n",
              "\n",
              "    .dataframe tbody tr th {\n",
              "        vertical-align: top;\n",
              "    }\n",
              "\n",
              "    .dataframe thead th {\n",
              "        text-align: right;\n",
              "    }\n",
              "</style>\n",
              "<table border=\"1\" class=\"dataframe\">\n",
              "  <thead>\n",
              "    <tr style=\"text-align: right;\">\n",
              "      <th></th>\n",
              "      <th>ID</th>\n",
              "      <th>CODE_GENDER</th>\n",
              "      <th>FLAG_OWN_CAR</th>\n",
              "      <th>FLAG_OWN_REALTY</th>\n",
              "      <th>CNT_CHILDREN</th>\n",
              "      <th>AMT_INCOME_TOTAL</th>\n",
              "      <th>NAME_INCOME_TYPE</th>\n",
              "      <th>NAME_EDUCATION_TYPE</th>\n",
              "      <th>NAME_FAMILY_STATUS</th>\n",
              "      <th>NAME_HOUSING_TYPE</th>\n",
              "      <th>DAYS_BIRTH</th>\n",
              "      <th>DAYS_EMPLOYED</th>\n",
              "      <th>FLAG_MOBIL</th>\n",
              "      <th>FLAG_WORK_PHONE</th>\n",
              "      <th>FLAG_PHONE</th>\n",
              "      <th>FLAG_EMAIL</th>\n",
              "      <th>CNT_FAM_MEMBERS</th>\n",
              "      <th>MONTHS_BALANCE</th>\n",
              "      <th>STATUS</th>\n",
              "    </tr>\n",
              "  </thead>\n",
              "  <tbody>\n",
              "    <tr>\n",
              "      <th>0</th>\n",
              "      <td>5008804</td>\n",
              "      <td>M</td>\n",
              "      <td>Y</td>\n",
              "      <td>Y</td>\n",
              "      <td>0</td>\n",
              "      <td>427500.0</td>\n",
              "      <td>Working</td>\n",
              "      <td>Higher education</td>\n",
              "      <td>Civil marriage</td>\n",
              "      <td>Rented apartment</td>\n",
              "      <td>-12005</td>\n",
              "      <td>-4542</td>\n",
              "      <td>1</td>\n",
              "      <td>1</td>\n",
              "      <td>0</td>\n",
              "      <td>0</td>\n",
              "      <td>2.0</td>\n",
              "      <td>0</td>\n",
              "      <td>C</td>\n",
              "    </tr>\n",
              "    <tr>\n",
              "      <th>1</th>\n",
              "      <td>5008804</td>\n",
              "      <td>M</td>\n",
              "      <td>Y</td>\n",
              "      <td>Y</td>\n",
              "      <td>0</td>\n",
              "      <td>427500.0</td>\n",
              "      <td>Working</td>\n",
              "      <td>Higher education</td>\n",
              "      <td>Civil marriage</td>\n",
              "      <td>Rented apartment</td>\n",
              "      <td>-12005</td>\n",
              "      <td>-4542</td>\n",
              "      <td>1</td>\n",
              "      <td>1</td>\n",
              "      <td>0</td>\n",
              "      <td>0</td>\n",
              "      <td>2.0</td>\n",
              "      <td>-1</td>\n",
              "      <td>C</td>\n",
              "    </tr>\n",
              "    <tr>\n",
              "      <th>2</th>\n",
              "      <td>5008804</td>\n",
              "      <td>M</td>\n",
              "      <td>Y</td>\n",
              "      <td>Y</td>\n",
              "      <td>0</td>\n",
              "      <td>427500.0</td>\n",
              "      <td>Working</td>\n",
              "      <td>Higher education</td>\n",
              "      <td>Civil marriage</td>\n",
              "      <td>Rented apartment</td>\n",
              "      <td>-12005</td>\n",
              "      <td>-4542</td>\n",
              "      <td>1</td>\n",
              "      <td>1</td>\n",
              "      <td>0</td>\n",
              "      <td>0</td>\n",
              "      <td>2.0</td>\n",
              "      <td>-2</td>\n",
              "      <td>C</td>\n",
              "    </tr>\n",
              "    <tr>\n",
              "      <th>3</th>\n",
              "      <td>5008804</td>\n",
              "      <td>M</td>\n",
              "      <td>Y</td>\n",
              "      <td>Y</td>\n",
              "      <td>0</td>\n",
              "      <td>427500.0</td>\n",
              "      <td>Working</td>\n",
              "      <td>Higher education</td>\n",
              "      <td>Civil marriage</td>\n",
              "      <td>Rented apartment</td>\n",
              "      <td>-12005</td>\n",
              "      <td>-4542</td>\n",
              "      <td>1</td>\n",
              "      <td>1</td>\n",
              "      <td>0</td>\n",
              "      <td>0</td>\n",
              "      <td>2.0</td>\n",
              "      <td>-3</td>\n",
              "      <td>C</td>\n",
              "    </tr>\n",
              "    <tr>\n",
              "      <th>4</th>\n",
              "      <td>5008804</td>\n",
              "      <td>M</td>\n",
              "      <td>Y</td>\n",
              "      <td>Y</td>\n",
              "      <td>0</td>\n",
              "      <td>427500.0</td>\n",
              "      <td>Working</td>\n",
              "      <td>Higher education</td>\n",
              "      <td>Civil marriage</td>\n",
              "      <td>Rented apartment</td>\n",
              "      <td>-12005</td>\n",
              "      <td>-4542</td>\n",
              "      <td>1</td>\n",
              "      <td>1</td>\n",
              "      <td>0</td>\n",
              "      <td>0</td>\n",
              "      <td>2.0</td>\n",
              "      <td>-4</td>\n",
              "      <td>C</td>\n",
              "    </tr>\n",
              "  </tbody>\n",
              "</table>\n",
              "</div>"
            ],
            "text/plain": [
              "        ID CODE_GENDER FLAG_OWN_CAR FLAG_OWN_REALTY  CNT_CHILDREN  \\\n",
              "0  5008804           M            Y               Y             0   \n",
              "1  5008804           M            Y               Y             0   \n",
              "2  5008804           M            Y               Y             0   \n",
              "3  5008804           M            Y               Y             0   \n",
              "4  5008804           M            Y               Y             0   \n",
              "\n",
              "   AMT_INCOME_TOTAL NAME_INCOME_TYPE NAME_EDUCATION_TYPE NAME_FAMILY_STATUS  \\\n",
              "0          427500.0          Working    Higher education     Civil marriage   \n",
              "1          427500.0          Working    Higher education     Civil marriage   \n",
              "2          427500.0          Working    Higher education     Civil marriage   \n",
              "3          427500.0          Working    Higher education     Civil marriage   \n",
              "4          427500.0          Working    Higher education     Civil marriage   \n",
              "\n",
              "  NAME_HOUSING_TYPE  DAYS_BIRTH  DAYS_EMPLOYED  FLAG_MOBIL  FLAG_WORK_PHONE  \\\n",
              "0  Rented apartment      -12005          -4542           1                1   \n",
              "1  Rented apartment      -12005          -4542           1                1   \n",
              "2  Rented apartment      -12005          -4542           1                1   \n",
              "3  Rented apartment      -12005          -4542           1                1   \n",
              "4  Rented apartment      -12005          -4542           1                1   \n",
              "\n",
              "   FLAG_PHONE  FLAG_EMAIL  CNT_FAM_MEMBERS  MONTHS_BALANCE STATUS  \n",
              "0           0           0              2.0               0      C  \n",
              "1           0           0              2.0              -1      C  \n",
              "2           0           0              2.0              -2      C  \n",
              "3           0           0              2.0              -3      C  \n",
              "4           0           0              2.0              -4      C  "
            ]
          },
          "execution_count": 5,
          "metadata": {},
          "output_type": "execute_result"
        }
      ],
      "source": [
        "total_dataset = total_dataset.drop(columns=[\"OCCUPATION_TYPE\"])\n",
        "total_dataset.head()"
      ]
    },
    {
      "cell_type": "markdown",
      "metadata": {
        "id": "OrzCh8fn7QCw"
      },
      "source": [
        "That should be it for the data curation now we can move on to the EDA"
      ]
    },
    {
      "cell_type": "markdown",
      "metadata": {
        "id": "yKBSyAOdwFLX"
      },
      "source": [
        "# Exploratory Data Analysis (from checkpoint 2)\n",
        "\n"
      ]
    },
    {
      "cell_type": "markdown",
      "metadata": {
        "id": "67UQ2bpY7oOy"
      },
      "source": [
        "**Method 1: Using descriptive statistics and visuals to find outliers of annual income**"
      ]
    },
    {
      "cell_type": "code",
      "execution_count": 6,
      "metadata": {
        "colab": {
          "base_uri": "https://localhost:8080/",
          "height": 376
        },
        "id": "XlZq-Z04wE6T",
        "outputId": "411f103e-7ce4-461f-a0f7-254bccfc16d0"
      },
      "outputs": [
        {
          "data": {
            "image/png": "[encoded data removed]",
            "text/plain": [
              "<Figure size 1800x600 with 2 Axes>"
            ]
          },
          "metadata": {},
          "output_type": "display_data"
        }
      ],
      "source": [
        "import matplotlib.ticker as ticker\n",
        "\n",
        "\n",
        "\n",
        "# create figure with two subplots\n",
        "fig, (ax1, ax2) = plt.subplots(1, 2, figsize=(18, 6))\n",
        "\n",
        "# plotting the Histogram\n",
        "hist = sns.histplot(total_dataset['AMT_INCOME_TOTAL'], bins=50, ax=ax1,\n",
        "                    color='royalblue', edgecolor='white', linewidth=0.5)\n",
        "ax1.set_title('Distribution of Total Income Amount', pad=20, fontsize=14, fontweight='bold')\n",
        "ax1.set_xlabel('Annual Income (USD)', labelpad=10)\n",
        "ax1.set_ylabel('Number of Applicants', labelpad=10)\n",
        "\n",
        "# make it so the tickers are formatted for monetary amounts\n",
        "ax1.xaxis.set_major_formatter(ticker.StrMethodFormatter('${x:,.0f}'))\n",
        "\n",
        "# Boxplot\n",
        "box = sns.boxplot(x=total_dataset['AMT_INCOME_TOTAL'], ax=ax2, color='lightseagreen',\n",
        "                  width=0.4, linewidth=2, flierprops=dict(marker='o', markersize=5))\n",
        "ax2.set_title('Income Distribution with Outliers', pad=20, fontsize=14, fontweight='bold')\n",
        "ax2.set_xlabel('Annual Income (USD)')\n",
        "\n",
        "# make it so the tickers are formatted for monetary amounts\n",
        "ax2.xaxis.set_major_formatter(ticker.StrMethodFormatter('${x:,.0f}'))\n",
        "\n",
        "plt.setp(ax2.get_xticklabels(), rotation=30, ha='right')\n",
        "# make it so the graphs appear side by side\n",
        "plt.tight_layout()\n",
        "plt.show()\n"
      ]
    },
    {
      "cell_type": "markdown",
      "metadata": {
        "id": "RNkUpQPB8NP8"
      },
      "source": [
        "From both the histogram and boxplot, we can find that the data for the total annual income of applicants is right skewed and that there are numerous outliers who make above 400,000 a year and make upward of 1.6 million a year. We can also print the number of outliers with the following code:"
      ]
    },
    {
      "cell_type": "code",
      "execution_count": 8,
      "metadata": {
        "colab": {
          "base_uri": "https://localhost:8080/"
        },
        "id": "g--jXlCz8MAC",
        "outputId": "3e3b98a7-109e-4aff-f5b3-6a34f6746450"
      },
      "outputs": [
        {
          "name": "stdout",
          "output_type": "stream",
          "text": [
            "Number of outliers: 33987\n"
          ]
        }
      ],
      "source": [
        "Q1 = total_dataset['AMT_INCOME_TOTAL'].quantile(0.25)\n",
        "Q3 = total_dataset['AMT_INCOME_TOTAL'].quantile(0.75)\n",
        "IQR = Q3 - Q1\n",
        "# filters for outliers using the formula x > Q3 + 1.5 * IQR\n",
        "outliers = total_dataset[(total_dataset['AMT_INCOME_TOTAL'] > Q3 + 1.5 * IQR)]\n",
        "print(f\"Number of outliers: {len(outliers)}\")\n"
      ]
    },
    {
      "cell_type": "markdown",
      "metadata": {
        "id": "1oNMsCfi8nYf"
      },
      "source": [
        "From this output and formula we can find that there are approximately 33987 outliers of annual income within the dataset."
      ]
    },
    {
      "cell_type": "markdown",
      "metadata": {
        "id": "V0l1BIr-8OWE"
      },
      "source": [
        "**Method 2: Using correlation analysis to examine the relationship between the number of children and credit status**"
      ]
    },
    {
      "cell_type": "code",
      "execution_count": 9,
      "metadata": {
        "id": "GPHSTMjB8N3z"
      },
      "outputs": [],
      "source": [
        "status_map = {\n",
        "    'X': -1,  # No loan\n",
        "    'C': -1,  # Paid off\n",
        "    '0': 0,   # 1-29 days past due\n",
        "    '1': 1,   # 30-59 days past due\n",
        "    '2': 2,   # 60-89 days overdue\n",
        "    '3': 3,   # 90-119 days overdue\n",
        "    '4': 4,   # 120-149 days overdue\n",
        "    '5': 5    # Overdue / bad debts >150 days\n",
        "}\n",
        "\n",
        "total_dataset['numeric_status'] = total_dataset['STATUS'].map(status_map)\n"
      ]
    },
    {
      "cell_type": "code",
      "execution_count": 10,
      "metadata": {
        "colab": {
          "base_uri": "https://localhost:8080/",
          "height": 331
        },
        "id": "C6bLKgq98vD-",
        "outputId": "fad16d56-cfea-4496-8644-b703a9a6c813"
      },
      "outputs": [
        {
          "data": {
            "text/html": [
              "<div>\n",
              "<style scoped>\n",
              "    .dataframe tbody tr th:only-of-type {\n",
              "        vertical-align: middle;\n",
              "    }\n",
              "\n",
              "    .dataframe tbody tr th {\n",
              "        vertical-align: top;\n",
              "    }\n",
              "\n",
              "    .dataframe thead th {\n",
              "        text-align: right;\n",
              "    }\n",
              "</style>\n",
              "<table border=\"1\" class=\"dataframe\">\n",
              "  <thead>\n",
              "    <tr style=\"text-align: right;\">\n",
              "      <th></th>\n",
              "      <th>CNT_CHILDREN</th>\n",
              "      <th>proportion_past_due</th>\n",
              "      <th>count_in_group</th>\n",
              "      <th>avg_overdue_status</th>\n",
              "      <th>overdue_count</th>\n",
              "    </tr>\n",
              "  </thead>\n",
              "  <tbody>\n",
              "    <tr>\n",
              "      <th>0</th>\n",
              "      <td>0</td>\n",
              "      <td>0.387715</td>\n",
              "      <td>540639</td>\n",
              "      <td>0.063064</td>\n",
              "      <td>209614</td>\n",
              "    </tr>\n",
              "    <tr>\n",
              "      <th>1</th>\n",
              "      <td>1</td>\n",
              "      <td>0.392179</td>\n",
              "      <td>155638</td>\n",
              "      <td>0.075691</td>\n",
              "      <td>61038</td>\n",
              "    </tr>\n",
              "    <tr>\n",
              "      <th>2</th>\n",
              "      <td>2</td>\n",
              "      <td>0.387108</td>\n",
              "      <td>70399</td>\n",
              "      <td>0.058968</td>\n",
              "      <td>27252</td>\n",
              "    </tr>\n",
              "    <tr>\n",
              "      <th>3</th>\n",
              "      <td>3</td>\n",
              "      <td>0.387864</td>\n",
              "      <td>9328</td>\n",
              "      <td>0.055832</td>\n",
              "      <td>3618</td>\n",
              "    </tr>\n",
              "    <tr>\n",
              "      <th>4</th>\n",
              "      <td>4</td>\n",
              "      <td>0.417484</td>\n",
              "      <td>1224</td>\n",
              "      <td>0.068493</td>\n",
              "      <td>511</td>\n",
              "    </tr>\n",
              "    <tr>\n",
              "      <th>5</th>\n",
              "      <td>5</td>\n",
              "      <td>0.243827</td>\n",
              "      <td>324</td>\n",
              "      <td>0.000000</td>\n",
              "      <td>79</td>\n",
              "    </tr>\n",
              "    <tr>\n",
              "      <th>6</th>\n",
              "      <td>7</td>\n",
              "      <td>0.521739</td>\n",
              "      <td>46</td>\n",
              "      <td>0.416667</td>\n",
              "      <td>24</td>\n",
              "    </tr>\n",
              "    <tr>\n",
              "      <th>7</th>\n",
              "      <td>14</td>\n",
              "      <td>0.783784</td>\n",
              "      <td>111</td>\n",
              "      <td>0.057471</td>\n",
              "      <td>87</td>\n",
              "    </tr>\n",
              "    <tr>\n",
              "      <th>8</th>\n",
              "      <td>19</td>\n",
              "      <td>1.000000</td>\n",
              "      <td>6</td>\n",
              "      <td>0.000000</td>\n",
              "      <td>6</td>\n",
              "    </tr>\n",
              "  </tbody>\n",
              "</table>\n",
              "</div>"
            ],
            "text/plain": [
              "   CNT_CHILDREN  proportion_past_due  count_in_group  avg_overdue_status  \\\n",
              "0             0             0.387715          540639            0.063064   \n",
              "1             1             0.392179          155638            0.075691   \n",
              "2             2             0.387108           70399            0.058968   \n",
              "3             3             0.387864            9328            0.055832   \n",
              "4             4             0.417484            1224            0.068493   \n",
              "5             5             0.243827             324            0.000000   \n",
              "6             7             0.521739              46            0.416667   \n",
              "7            14             0.783784             111            0.057471   \n",
              "8            19             1.000000               6            0.000000   \n",
              "\n",
              "   overdue_count  \n",
              "0         209614  \n",
              "1          61038  \n",
              "2          27252  \n",
              "3           3618  \n",
              "4            511  \n",
              "5             79  \n",
              "6             24  \n",
              "7             87  \n",
              "8              6  "
            ]
          },
          "execution_count": 10,
          "metadata": {},
          "output_type": "execute_result"
        }
      ],
      "source": [
        "# Drop rows where numeric_status is NaN\n",
        "filtered_df = total_dataset.dropna(subset=['numeric_status', 'CNT_CHILDREN'])\n",
        "\n",
        "# Create a boolean column indicating past due vs. no loan/paid off\n",
        "filtered_df['is_past_due'] = (filtered_df['numeric_status'] >= 0)\n",
        "\n",
        "# group by the child count\n",
        "group_cols = ['CNT_CHILDREN']\n",
        "\n",
        "# Proportion of each group that has any past-due status (mean of 'is_past_due')\n",
        "grouped_df = (\n",
        "    filtered_df\n",
        "    .groupby(group_cols)\n",
        "    .agg(\n",
        "        proportion_past_due = ('is_past_due', 'mean'),\n",
        "        count_in_group      = ('ID', 'count')\n",
        "    )\n",
        "    .reset_index()\n",
        ")\n",
        "\n",
        "# Now average status among those overdue\n",
        "overdue_only = filtered_df[filtered_df['is_past_due']]\n",
        "avg_status_df = (\n",
        "    overdue_only\n",
        "    .groupby(group_cols)\n",
        "    .agg(avg_overdue_status = ('numeric_status', 'mean'),\n",
        "         overdue_count      = ('ID', 'count'))\n",
        "    .reset_index()\n",
        ")\n",
        "\n",
        "# Merge the two results\n",
        "merged_stats = pd.merge(grouped_df, avg_status_df, on='CNT_CHILDREN', how='left')\n",
        "merged_stats['avg_overdue_status'] = merged_stats['avg_overdue_status'].fillna(0)\n",
        "merged_stats\n"
      ]
    },
    {
      "cell_type": "code",
      "execution_count": 11,
      "metadata": {
        "colab": {
          "base_uri": "https://localhost:8080/",
          "height": 353
        },
        "id": "7fIdH9ro806R",
        "outputId": "be0b2b16-89ab-4480-f907-889661504acf"
      },
      "outputs": [
        {
          "data": {
            "image/png": "[encoded data removed]",
            "text/plain": [
              "<Figure size 1600x500 with 2 Axes>"
            ]
          },
          "metadata": {},
          "output_type": "display_data"
        }
      ],
      "source": [
        "fig, (ax1, ax2) = plt.subplots(1, 2, figsize=(16, 5))\n",
        "\n",
        "# Proportion of Past-Due Records\n",
        "ax1.bar(merged_stats['CNT_CHILDREN'], merged_stats['proportion_past_due'])\n",
        "ax1.set_xlabel('Number of Children')\n",
        "ax1.set_ylabel('Proportion of Past-Due Records')\n",
        "ax1.set_title('Proportion of Applicants with Overdue Status by Child Count')\n",
        "\n",
        "# Average Overdue Status\n",
        "ax2.plot(merged_stats['CNT_CHILDREN'], merged_stats['avg_overdue_status'], marker='o')\n",
        "ax2.set_xlabel('Number of Children')\n",
        "ax2.set_ylabel('Average Overdue Status (0 = mild, 5 = severe)')\n",
        "ax2.set_title('Average Past-Due Severity by Child Count')\n",
        "ax2.grid(True)\n",
        "\n",
        "plt.tight_layout()\n",
        "plt.show()\n"
      ]
    },
    {
      "cell_type": "markdown",
      "metadata": {
        "id": "smomCjnx85jI"
      },
      "source": [
        "**Conclusion:**\n",
        "From 0–4 children, the overdue proportion consistently hovers around 38–42%. This indicates very low correlation for this range of children count. It jumps noticeably for families with 7 or more children (52% for 7, 78% for 14, and even 100% for 19), but these categories have very small sample sizes (46, 111, and 6 records, respectively). As a result, while the data suggests that larger families **might** face higher overdue rates, we cannot draw a firm conclusion given how few cases exist in those extreme groups."
      ]
    },
    {
      "cell_type": "markdown",
      "metadata": {
        "id": "m5pr7lFV8SiS"
      },
      "source": [
        "**Method #3: Using a Mann-Whitney Test to determine if annual income plays a role in people who ever went past due vs those who never did**"
      ]
    },
    {
      "cell_type": "code",
      "execution_count": 12,
      "metadata": {
        "colab": {
          "base_uri": "https://localhost:8080/",
          "height": 458
        },
        "id": "ieq9a0ss8UEn",
        "outputId": "842b1058-9dd2-4ee3-8139-5769890dbced"
      },
      "outputs": [
        {
          "data": {
            "text/plain": [
              "4        270000.0\n",
              "12       135000.0\n",
              "44       135000.0\n",
              "55       135000.0\n",
              "76       297000.0\n",
              "           ...   \n",
              "36079    157500.0\n",
              "36080     67500.0\n",
              "36091     67500.0\n",
              "36097    112500.0\n",
              "36104     90000.0\n",
              "Name: AMT_INCOME_TOTAL, Length: 4455, dtype: float64"
            ]
          },
          "execution_count": 12,
          "metadata": {},
          "output_type": "execute_result"
        }
      ],
      "source": [
        "\n",
        "#copy credit_record\n",
        "credit_copy = credit_record.copy()\n",
        "\n",
        "# map STATUS to numeric and create a binary column called \"is_past_due\"\n",
        "credit_copy['numeric_status'] = credit_copy['STATUS'].map(lambda x: -1 if x in ['C', 'X'] else int(x))\n",
        "past_due_flag = credit_copy.groupby('ID')['numeric_status'].max().reset_index()\n",
        "past_due_flag['is_past_due'] = past_due_flag['numeric_status'] >= 0\n",
        "#merge app info with past_due info\n",
        "app_copy = application_record.copy()\n",
        "merged_copy = pd.merge(app_copy, past_due_flag[['ID', 'is_past_due']], on='ID')\n",
        "income_past_due = merged_copy[merged_copy['is_past_due'] == True]['AMT_INCOME_TOTAL']\n",
        "income_clean = merged_copy[merged_copy['is_past_due'] == False]['AMT_INCOME_TOTAL']\n",
        "income_clean"
      ]
    },
    {
      "cell_type": "code",
      "execution_count": 15,
      "metadata": {
        "colab": {
          "base_uri": "https://localhost:8080/",
          "height": 402
        },
        "id": "XoGKpLrb-bNt",
        "outputId": "44ea79ea-e891-43fb-e471-125796c0b642"
      },
      "outputs": [
        {
          "data": {
            "image/png": "[encoded data removed]",
            "text/plain": [
              "<Figure size 1400x500 with 2 Axes>"
            ]
          },
          "metadata": {},
          "output_type": "display_data"
        }
      ],
      "source": [
        "from scipy.stats import normaltest, mannwhitneyu\n",
        "import matplotlib.ticker as mtick\n",
        "\n",
        "# Plot histograms + KDEs\n",
        "fig, (ax1, ax2) = plt.subplots(1, 2, figsize=(14, 5))\n",
        "\n",
        "sns.histplot(\n",
        "    income_past_due,\n",
        "    kde=True,\n",
        "    bins=10,\n",
        "    stat=\"count\",\n",
        "    ax=ax1,\n",
        "    color=\"skyblue\",\n",
        "    edgecolor=\"k\",\n",
        ")\n",
        "ax1.set_title(\"Income Distribution: Past Due\")\n",
        "ax1.set_xlabel(\"Annual Income (USD)\")\n",
        "ax1.set_ylabel(\"Count\")\n",
        "ax1.xaxis.set_major_formatter(mtick.StrMethodFormatter(\"${x:,.0f}\"))\n",
        "\n",
        "sns.histplot(\n",
        "    income_clean,\n",
        "    kde=True,\n",
        "    bins=10,\n",
        "    stat=\"count\",\n",
        "    ax=ax2,\n",
        "    color=\"salmon\",\n",
        "    edgecolor=\"k\",\n",
        ")\n",
        "ax2.set_title(\"Income Distribution: Never Past Due\")\n",
        "ax2.set_xlabel(\"Annual Income (USD)\")\n",
        "ax2.set_ylabel(\"Count\")\n",
        "ax2.xaxis.set_major_formatter(mtick.StrMethodFormatter(\"${x:,.0f}\"))\n",
        "\n",
        "plt.tight_layout()\n",
        "plt.show()\n"
      ]
    },
    {
      "cell_type": "markdown",
      "metadata": {
        "id": "eGI7KkO--ezE"
      },
      "source": [
        "Clearly the data is not normally distributed so we should use a Mann-Whitney Test because the data is independent but the means aren't used to calculate the significance\n",
        "\n"
      ]
    },
    {
      "cell_type": "code",
      "execution_count": 16,
      "metadata": {
        "colab": {
          "base_uri": "https://localhost:8080/"
        },
        "id": "DBk2UtK09IfY",
        "outputId": "cd39cae5-3c41-4c12-9dc1-a71ff722da23"
      },
      "outputs": [
        {
          "name": "stdout",
          "output_type": "stream",
          "text": [
            "Mann-Whitney U Test: U = 69470151.5, p = 0.005730127803692804\n",
            "Mean income (Past Due): 186138.3858508843\n",
            "Mean income (Never Past Due): 190617.5707070707\n"
          ]
        }
      ],
      "source": [
        "# Actually run and print the test\n",
        "u_stat, p_val = mannwhitneyu(income_past_due, income_clean, alternative='two-sided')\n",
        "print(f\"Mann-Whitney U Test: U = {u_stat}, p = {p_val}\")\n",
        "\n",
        "print(\"Mean income (Past Due):\", income_past_due.mean())\n",
        "print(\"Mean income (Never Past Due):\", income_clean.mean())"
      ]
    },
    {
      "cell_type": "code",
      "execution_count": 17,
      "metadata": {
        "colab": {
          "base_uri": "https://localhost:8080/",
          "height": 652
        },
        "id": "fAVFAWeX-k75",
        "outputId": "154cc5b9-2dde-4047-9bd5-7289f8468556"
      },
      "outputs": [
        {
          "name": "stderr",
          "output_type": "stream",
          "text": [
            "/var/folders/w5/rw_jzg3x1xz39kb334mrwy340000gn/T/ipykernel_3366/357423167.py:7: FutureWarning: \n",
            "\n",
            "Passing `palette` without assigning `hue` is deprecated and will be removed in v0.14.0. Assign the `x` variable to `hue` and set `legend=False` for the same effect.\n",
            "\n",
            "  ax = sns.violinplot(\n"
          ]
        },
        {
          "data": {
            "image/png": "[encoded data removed]",
            "text/plain": [
              "<Figure size 800x600 with 1 Axes>"
            ]
          },
          "metadata": {},
          "output_type": "display_data"
        }
      ],
      "source": [
        "plot_df = pd.DataFrame({\n",
        "    \"Income\": pd.concat([income_past_due, income_clean]),\n",
        "    \"Credit History\": [\"Past Due\"] * len(income_past_due) + [\"Never Past Due\"] * len(income_clean)\n",
        "})\n",
        "\n",
        "plt.figure(figsize=(8, 6))\n",
        "ax = sns.violinplot(\n",
        "    data=plot_df,\n",
        "    x=\"Credit History\",\n",
        "    y=\"Income\",\n",
        "    inner=\"box\",\n",
        "    palette=[\"skyblue\", \"salmon\"]\n",
        ")\n",
        "ax.set_title(\"Income: Past Due vs. Never Past Due\")\n",
        "ax.set_xlabel(\"\")\n",
        "ax.set_ylabel(\"Annual Income (USD)\")\n",
        "ax.yaxis.set_major_formatter(mtick.StrMethodFormatter(\"${x:,.0f}\"))\n",
        "plt.show()"
      ]
    },
    {
      "cell_type": "markdown",
      "metadata": {
        "id": "OwmuTu5o9JAZ"
      },
      "source": [
        "Based on this plot the violin plots are very similar for past & not past due, which supports the lack of statistical significance. The past due might be more \"textured\" on the side because it has more data points than the never past due\n",
        "\n",
        "**Conclusion**:\n",
        "\n",
        "We tested whether the income distributions differ between individuals who have gone past due and those who haven’t using the Mann-Whitney U test. The result was not statistically significant (p = 0.0057), suggesting no meaningful difference in income between the two groups.\n",
        "\n",
        "Combined with the small difference in mean income (about $2,400), we conclude that income alone is unlikely to be a strong predictor of overdue credit behavior in this dataset."
      ]
    },
    {
      "cell_type": "markdown",
      "metadata": {
        "id": "jwk5-k88wVGp"
      },
      "source": [
        "# Primary Analysis"
      ]
    },
    {
      "cell_type": "markdown",
      "metadata": {
        "id": "MiVK-UoPBVcS"
      },
      "source": [
        "In our primary analysis, we treat credit risk as a binary classification problem—predicting whether an applicant will ever go past due—using the full set of demographic features. After dropping the all-NA OCCUPATION_TYPE column, our input vector for each applicant consists of three standardized numerical variables (annual income, number of children, and family size) alongside five one-hot encoded categorical variables (gender, income source, education level, family status, and housing type). We implement two modeling pipelines: a Logistic Regression for its straightforward interpretation of feature-to-odds relationships, and a Random Forest to capture potential nonlinear interactions among predictors. Each pipeline outputs both hard class labels (risk vs. no‐risk) and estimated class probabilities, which we will evaluate on a held-out test set using precision, recall, F₁ score, and ROC-AUC. In the sections that follow, we’ll walk through the exact preprocessing steps, model fitting, and a comparison of their predictive performance."
      ]
    },
    {
      "cell_type": "code",
      "execution_count": 32,
      "metadata": {
        "colab": {
          "base_uri": "https://localhost:8080/",
          "height": 547
        },
        "id": "-mTyXQj4BUwb",
        "outputId": "da2651a3-c6d2-4507-ffe5-dc27f46bdbff"
      },
      "outputs": [],
      "source": [
        "# 5.1 Imports and train/test split\n",
        "from sklearn.pipeline    import Pipeline\n",
        "from sklearn.compose     import ColumnTransformer\n",
        "from sklearn.preprocessing import StandardScaler, OneHotEncoder\n",
        "from sklearn.model_selection import train_test_split\n",
        "from sklearn.linear_model   import LogisticRegression\n",
        "from sklearn.ensemble       import RandomForestClassifier\n",
        "from sklearn.metrics        import classification_report, roc_auc_score\n",
        "\n",
        "# Assume `merged_df` holds all features + 'is_past_due'\n",
        "num_feats = [\"AMT_INCOME_TOTAL\", \"CNT_CHILDREN\", \"CNT_FAM_MEMBERS\"]\n",
        "cat_feats = [\"CODE_GENDER\", \"NAME_INCOME_TYPE\", \"NAME_EDUCATION_TYPE\",\n",
        "             \"NAME_FAMILY_STATUS\", \"NAME_HOUSING_TYPE\"]\n",
        "\n",
        "# Correct dataset creation with target label\n",
        "credit_copy = credit_record.copy()\n",
        "credit_copy['numeric_status'] = credit_copy['STATUS'].map(lambda x: -1 if x in ['C', 'X'] else int(x))\n",
        "past_due_flag = credit_copy.groupby('ID')['numeric_status'].max().reset_index()\n",
        "past_due_flag['is_past_due'] = past_due_flag['numeric_status'] >= 0\n",
        "\n",
        "app_copy = application_record.copy()\n",
        "total_dataset = pd.merge(app_copy, past_due_flag[['ID', 'is_past_due']], on='ID')\n",
        "\n",
        "X = total_dataset[num_feats + cat_feats]\n",
        "y = total_dataset[\"is_past_due\"]\n",
        "\n",
        "X_train, X_test, y_train, y_test = train_test_split(\n",
        "    X, y, test_size=0.2, random_state=42, stratify=y\n",
        ")\n",
        "\n",
        "# 5.2 Build preprocessing + modeling pipelines\n",
        "preprocessor = ColumnTransformer([\n",
        "    (\"num\", StandardScaler(), num_feats),\n",
        "    (\"cat\", OneHotEncoder(handle_unknown=\"ignore\"), cat_feats),\n",
        "])\n",
        "\n",
        "pipelines = {\n",
        "    \"LogisticRegression\": Pipeline([\n",
        "        (\"pre\", preprocessor),\n",
        "        (\"clf\", LogisticRegression(max_iter=1000))\n",
        "    ]),\n",
        "    \"RandomForest\": Pipeline([\n",
        "        (\"pre\", preprocessor),\n",
        "        (\"clf\", RandomForestClassifier(\n",
        "            n_estimators=100, random_state=42))\n",
        "    ])\n",
        "}\n"
      ]
    },
    {
      "cell_type": "markdown",
      "metadata": {},
      "source": [
        "To evaluate how well each model predicts credit delinquency, we now fit both pipelines—Logistic Regression and Random Forest—on the training set and assess their performance on the test set. After fitting, we generate predictions and probability scores for each model, then compute classification metrics including precision, recall, F₁ score, and ROC-AUC. This helps us understand not just the accuracy, but also how each model balances false positives and false negatives in this binary risk classification task."
      ]
    },
    {
      "cell_type": "code",
      "execution_count": 34,
      "metadata": {},
      "outputs": [
        {
          "name": "stdout",
          "output_type": "stream",
          "text": [
            "--- LogisticRegression ---\n",
            "Classification Report:\n",
            "              precision    recall  f1-score   support\n",
            "\n",
            "       False       0.00      0.00      0.00       891\n",
            "        True       0.88      1.00      0.93      6401\n",
            "\n",
            "    accuracy                           0.88      7292\n",
            "   macro avg       0.44      0.50      0.47      7292\n",
            "weighted avg       0.77      0.88      0.82      7292\n",
            "\n",
            "ROC-AUC Score: 0.4984\n",
            "\n",
            "--- RandomForest ---\n",
            "Classification Report:\n",
            "              precision    recall  f1-score   support\n",
            "\n",
            "       False       0.51      0.14      0.22       891\n",
            "        True       0.89      0.98      0.93      6401\n",
            "\n",
            "    accuracy                           0.88      7292\n",
            "   macro avg       0.70      0.56      0.58      7292\n",
            "weighted avg       0.84      0.88      0.85      7292\n",
            "\n",
            "ROC-AUC Score: 0.6925\n",
            "\n"
          ]
        }
      ],
      "source": [
        "# 5.3 Fit models and evaluate performance\n",
        "for name, model in pipelines.items():\n",
        "    print(f\"--- {name} ---\")\n",
        "    model.fit(X_train, y_train)\n",
        "\n",
        "    y_pred = model.predict(X_test)\n",
        "    y_proba = model.predict_proba(X_test)[:, 1]\n",
        "\n",
        "    print(\"Classification Report:\")\n",
        "    print(classification_report(y_test, y_pred, zero_division=0))\n",
        "\n",
        "    auc_score = roc_auc_score(y_test, y_proba)\n",
        "    print(f\"ROC-AUC Score: {auc_score:.4f}\\n\")"
      ]
    }
  ],
  "metadata": {
    "colab": {
      "provenance": []
    },
    "kernelspec": {
      "display_name": ".venv",
      "language": "python",
      "name": "python3"
    },
    "language_info": {
      "codemirror_mode": {
        "name": "ipython",
        "version": 3
      },
      "file_extension": ".py",
      "mimetype": "text/x-python",
      "name": "python",
      "nbconvert_exporter": "python",
      "pygments_lexer": "ipython3",
      "version": "3.13.1"
    }
  },
  "nbformat": 4,
  "nbformat_minor": 0
}
